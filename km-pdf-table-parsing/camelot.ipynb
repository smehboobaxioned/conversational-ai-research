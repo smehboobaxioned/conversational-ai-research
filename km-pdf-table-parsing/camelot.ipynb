{
 "cells": [
  {
   "cell_type": "code",
   "execution_count": null,
   "metadata": {},
   "outputs": [],
   "source": [
    "!pip install camelot-py==0.8.2\n",
    "!pip install 'PyPDF2<3.0.0'\n",
    "!apt-get install ghostscript\n",
    "import camelot\n",
    "import pandas as pd"
   ]
  },
  {
   "cell_type": "code",
   "execution_count": null,
   "metadata": {},
   "outputs": [],
   "source": [
    "# Read the tables from the PDF\n",
    "tables = camelot.read_pdf(\"Sheet2.pdf\", pages = \"1,2\", flavor = 'lattice')"
   ]
  },
  {
   "cell_type": "code",
   "execution_count": null,
   "metadata": {},
   "outputs": [],
   "source": [
    "tables"
   ]
  },
  {
   "cell_type": "code",
   "execution_count": null,
   "metadata": {},
   "outputs": [],
   "source": [
    "def merge_tables_with_matching_headers(tables):\n",
    "    merged_tables = []\n",
    "    \n",
    "    # Iterate through tables\n",
    "    i = 0\n",
    "    while i < len(tables):\n",
    "        current_table = tables[i]  # Get the current table\n",
    "        \n",
    "        # Check if there are subsequent tables\n",
    "        if i + 1 < len(tables):\n",
    "            next_table = tables[i + 1]\n",
    "            \n",
    "            # Compare top two rows of current and next tables beacuse sometimes the table name or empty rows are present in the first row\n",
    "            top_rows_current = current_table.df.head(2).values.tolist()\n",
    "            top_rows_next = next_table.df.head(2).values.tolist()\n",
    "            \n",
    "            # Check for any matching row\n",
    "            match_found = False\n",
    "            matching_row_index = None\n",
    "            for idx, row_current in enumerate(top_rows_current):\n",
    "                for row_next in top_rows_next:\n",
    "                    if row_current == row_next:\n",
    "                        # Remove the matched header row from the second table\n",
    "                        next_table.df.drop(idx, inplace=True)\n",
    "                        matching_row_index = idx\n",
    "                        match_found = True\n",
    "                        break\n",
    "                if match_found:\n",
    "                    break\n",
    "            \n",
    "            if match_found:\n",
    "                # Merge tables, excluding the matched header row from the second table\n",
    "                merged_table = pd.concat([current_table.df, next_table.df], ignore_index=True)\n",
    "                merged_tables.append(merged_table)\n",
    "                # Skip the next table as it's already merged\n",
    "                i += 1\n",
    "            else:\n",
    "                # No matching header found, keep current table separate\n",
    "                merged_tables.append(current_table.df)\n",
    "        else:\n",
    "            # No subsequent table, keep current table separate\n",
    "            merged_tables.append(current_table.df)\n",
    "        \n",
    "        i += 1\n",
    "    \n",
    "    return merged_tables\n",
    "\n",
    "\n",
    "# Merge tables with matching headers\n",
    "merged_tables = merge_tables_with_matching_headers(tables)\n"
   ]
  }
 ],
 "metadata": {
  "kernelspec": {
   "display_name": "Python 3",
   "language": "python",
   "name": "python3"
  },
  "language_info": {
   "codemirror_mode": {
    "name": "ipython",
    "version": 3
   },
   "file_extension": ".py",
   "mimetype": "text/x-python",
   "name": "python",
   "nbconvert_exporter": "python",
   "pygments_lexer": "ipython3",
   "version": "3.10.0"
  }
 },
 "nbformat": 4,
 "nbformat_minor": 2
}
